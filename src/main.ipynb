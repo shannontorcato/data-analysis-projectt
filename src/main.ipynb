{
 "cells": [
  {
   "attachments": {},
   "cell_type": "markdown",
   "metadata": {},
   "source": [
    "Functions Created:\n",
    "\n",
    "top_5_population_graph(year) -> Plots the top 5 countries with highest population in a given year.\n",
    "\n",
    "top_5_population_year(year) -> Extracts the top 5 countries for each year\n",
    " \n",
    "country_population(country) -> Extracts row for a given country\n",
    "\n",
    "country_population_graph(country) -> Plots the population of a given country for each year\n",
    "\n",
    "Problem 1:\n",
    "How do you create a case function using the top 5 countries in terms of population size to determine if we have a problem of over-population or under-population.\n",
    "\n",
    "Solution 1:\n",
    "Instead of doing analysis of multiple countries, build a case for a single country and go deeper with the study. By doing so you can do a more detailed case with more accurate insights rather than a general overview.\n",
    "\n",
    "Problem 2:\n",
    "The time interval is not equal, we have 1990, 2000, 2012.....2013....14...15\n",
    "\n",
    "Solution 2:\n",
    "Get rid of the first two time intervals 1990 and 2000 as this will lead to imbalances when visualizing the graphs or checking growth rates."
   ]
  },
  {
   "cell_type": "code",
   "execution_count": 197,
   "metadata": {},
   "outputs": [],
   "source": [
    "#Importing the libraries\n",
    "import pandas as pd\n",
    "import matplotlib.pyplot as plt"
   ]
  },
  {
   "attachments": {},
   "cell_type": "markdown",
   "metadata": {},
   "source": [
    "Load Data into the workspace so we can see what we are dealing with and explore the data a little."
   ]
  },
  {
   "cell_type": "code",
   "execution_count": 198,
   "metadata": {},
   "outputs": [
    {
     "data": {
      "text/html": [
       "<div>\n",
       "<style scoped>\n",
       "    .dataframe tbody tr th:only-of-type {\n",
       "        vertical-align: middle;\n",
       "    }\n",
       "\n",
       "    .dataframe tbody tr th {\n",
       "        vertical-align: top;\n",
       "    }\n",
       "\n",
       "    .dataframe thead th {\n",
       "        text-align: right;\n",
       "    }\n",
       "</style>\n",
       "<table border=\"1\" class=\"dataframe\">\n",
       "  <thead>\n",
       "    <tr style=\"text-align: right;\">\n",
       "      <th></th>\n",
       "      <th>Series Name</th>\n",
       "      <th>Series Code</th>\n",
       "      <th>Country Name</th>\n",
       "      <th>Country Code</th>\n",
       "      <th>1990 [YR1990]</th>\n",
       "      <th>2000 [YR2000]</th>\n",
       "      <th>2012 [YR2012]</th>\n",
       "      <th>2013 [YR2013]</th>\n",
       "      <th>2014 [YR2014]</th>\n",
       "      <th>2015 [YR2015]</th>\n",
       "      <th>2016 [YR2016]</th>\n",
       "      <th>2017 [YR2017]</th>\n",
       "      <th>2018 [YR2018]</th>\n",
       "      <th>2019 [YR2019]</th>\n",
       "      <th>2020 [YR2020]</th>\n",
       "      <th>2021 [YR2021]</th>\n",
       "    </tr>\n",
       "  </thead>\n",
       "  <tbody>\n",
       "    <tr>\n",
       "      <th>0</th>\n",
       "      <td>Population, total</td>\n",
       "      <td>SP.POP.TOTL</td>\n",
       "      <td>Afghanistan</td>\n",
       "      <td>AFG</td>\n",
       "      <td>10694796</td>\n",
       "      <td>19542982</td>\n",
       "      <td>30466479</td>\n",
       "      <td>31541209</td>\n",
       "      <td>32716210</td>\n",
       "      <td>33753499</td>\n",
       "      <td>34636207</td>\n",
       "      <td>35643418</td>\n",
       "      <td>36686784</td>\n",
       "      <td>37769499</td>\n",
       "      <td>38972230</td>\n",
       "      <td>40099462</td>\n",
       "    </tr>\n",
       "    <tr>\n",
       "      <th>1</th>\n",
       "      <td>Population, total</td>\n",
       "      <td>SP.POP.TOTL</td>\n",
       "      <td>Albania</td>\n",
       "      <td>ALB</td>\n",
       "      <td>3286542</td>\n",
       "      <td>3089027</td>\n",
       "      <td>2900401</td>\n",
       "      <td>2895092</td>\n",
       "      <td>2889104</td>\n",
       "      <td>2880703</td>\n",
       "      <td>2876101</td>\n",
       "      <td>2873457</td>\n",
       "      <td>2866376</td>\n",
       "      <td>2854191</td>\n",
       "      <td>2837849</td>\n",
       "      <td>2811666</td>\n",
       "    </tr>\n",
       "    <tr>\n",
       "      <th>2</th>\n",
       "      <td>Population, total</td>\n",
       "      <td>SP.POP.TOTL</td>\n",
       "      <td>Algeria</td>\n",
       "      <td>DZA</td>\n",
       "      <td>25518074</td>\n",
       "      <td>30774621</td>\n",
       "      <td>37260563</td>\n",
       "      <td>38000626</td>\n",
       "      <td>38760168</td>\n",
       "      <td>39543154</td>\n",
       "      <td>40339329</td>\n",
       "      <td>41136546</td>\n",
       "      <td>41927007</td>\n",
       "      <td>42705368</td>\n",
       "      <td>43451666</td>\n",
       "      <td>44177969</td>\n",
       "    </tr>\n",
       "    <tr>\n",
       "      <th>3</th>\n",
       "      <td>Population, total</td>\n",
       "      <td>SP.POP.TOTL</td>\n",
       "      <td>American Samoa</td>\n",
       "      <td>ASM</td>\n",
       "      <td>47818</td>\n",
       "      <td>58230</td>\n",
       "      <td>53691</td>\n",
       "      <td>52995</td>\n",
       "      <td>52217</td>\n",
       "      <td>51368</td>\n",
       "      <td>50448</td>\n",
       "      <td>49463</td>\n",
       "      <td>48424</td>\n",
       "      <td>47321</td>\n",
       "      <td>46189</td>\n",
       "      <td>45035</td>\n",
       "    </tr>\n",
       "    <tr>\n",
       "      <th>4</th>\n",
       "      <td>Population, total</td>\n",
       "      <td>SP.POP.TOTL</td>\n",
       "      <td>Andorra</td>\n",
       "      <td>AND</td>\n",
       "      <td>53569</td>\n",
       "      <td>66097</td>\n",
       "      <td>71013</td>\n",
       "      <td>71367</td>\n",
       "      <td>71621</td>\n",
       "      <td>71746</td>\n",
       "      <td>72540</td>\n",
       "      <td>73837</td>\n",
       "      <td>75013</td>\n",
       "      <td>76343</td>\n",
       "      <td>77700</td>\n",
       "      <td>79034</td>\n",
       "    </tr>\n",
       "  </tbody>\n",
       "</table>\n",
       "</div>"
      ],
      "text/plain": [
       "         Series Name  Series Code    Country Name Country Code 1990 [YR1990]  \\\n",
       "0  Population, total  SP.POP.TOTL     Afghanistan          AFG      10694796   \n",
       "1  Population, total  SP.POP.TOTL         Albania          ALB       3286542   \n",
       "2  Population, total  SP.POP.TOTL         Algeria          DZA      25518074   \n",
       "3  Population, total  SP.POP.TOTL  American Samoa          ASM         47818   \n",
       "4  Population, total  SP.POP.TOTL         Andorra          AND         53569   \n",
       "\n",
       "  2000 [YR2000] 2012 [YR2012] 2013 [YR2013] 2014 [YR2014] 2015 [YR2015]  \\\n",
       "0      19542982      30466479      31541209      32716210      33753499   \n",
       "1       3089027       2900401       2895092       2889104       2880703   \n",
       "2      30774621      37260563      38000626      38760168      39543154   \n",
       "3         58230         53691         52995         52217         51368   \n",
       "4         66097         71013         71367         71621         71746   \n",
       "\n",
       "  2016 [YR2016] 2017 [YR2017] 2018 [YR2018] 2019 [YR2019] 2020 [YR2020]  \\\n",
       "0      34636207      35643418      36686784      37769499      38972230   \n",
       "1       2876101       2873457       2866376       2854191       2837849   \n",
       "2      40339329      41136546      41927007      42705368      43451666   \n",
       "3         50448         49463         48424         47321         46189   \n",
       "4         72540         73837         75013         76343         77700   \n",
       "\n",
       "  2021 [YR2021]  \n",
       "0      40099462  \n",
       "1       2811666  \n",
       "2      44177969  \n",
       "3         45035  \n",
       "4         79034  "
      ]
     },
     "execution_count": 198,
     "metadata": {},
     "output_type": "execute_result"
    }
   ],
   "source": [
    "raw_population = pd.read_csv('../data/raw/World_Population_Data.csv')\n",
    "raw_population.head()"
   ]
  },
  {
   "attachments": {},
   "cell_type": "markdown",
   "metadata": {},
   "source": [
    "As you can see in the data, we have two columns that are not required. So we can clear that up by dropping the two columns of **Series Name** and **Series Code**."
   ]
  },
  {
   "cell_type": "code",
   "execution_count": 199,
   "metadata": {},
   "outputs": [
    {
     "name": "stdout",
     "output_type": "stream",
     "text": [
      "<class 'pandas.core.frame.DataFrame'>\n",
      "RangeIndex: 271 entries, 0 to 270\n",
      "Data columns (total 16 columns):\n",
      " #   Column         Non-Null Count  Dtype \n",
      "---  ------         --------------  ----- \n",
      " 0   Series Name    268 non-null    object\n",
      " 1   Series Code    266 non-null    object\n",
      " 2   Country Name   266 non-null    object\n",
      " 3   Country Code   266 non-null    object\n",
      " 4   1990 [YR1990]  266 non-null    object\n",
      " 5   2000 [YR2000]  266 non-null    object\n",
      " 6   2012 [YR2012]  266 non-null    object\n",
      " 7   2013 [YR2013]  266 non-null    object\n",
      " 8   2014 [YR2014]  266 non-null    object\n",
      " 9   2015 [YR2015]  266 non-null    object\n",
      " 10  2016 [YR2016]  266 non-null    object\n",
      " 11  2017 [YR2017]  266 non-null    object\n",
      " 12  2018 [YR2018]  266 non-null    object\n",
      " 13  2019 [YR2019]  266 non-null    object\n",
      " 14  2020 [YR2020]  266 non-null    object\n",
      " 15  2021 [YR2021]  266 non-null    object\n",
      "dtypes: object(16)\n",
      "memory usage: 34.0+ KB\n"
     ]
    }
   ],
   "source": [
    "raw_population.info()"
   ]
  },
  {
   "cell_type": "code",
   "execution_count": 200,
   "metadata": {},
   "outputs": [
    {
     "data": {
      "text/html": [
       "<div>\n",
       "<style scoped>\n",
       "    .dataframe tbody tr th:only-of-type {\n",
       "        vertical-align: middle;\n",
       "    }\n",
       "\n",
       "    .dataframe tbody tr th {\n",
       "        vertical-align: top;\n",
       "    }\n",
       "\n",
       "    .dataframe thead th {\n",
       "        text-align: right;\n",
       "    }\n",
       "</style>\n",
       "<table border=\"1\" class=\"dataframe\">\n",
       "  <thead>\n",
       "    <tr style=\"text-align: right;\">\n",
       "      <th></th>\n",
       "      <th>Series Name</th>\n",
       "      <th>Series Code</th>\n",
       "      <th>Country Name</th>\n",
       "      <th>Country Code</th>\n",
       "      <th>1990 [YR1990]</th>\n",
       "      <th>2000 [YR2000]</th>\n",
       "      <th>2012 [YR2012]</th>\n",
       "      <th>2013 [YR2013]</th>\n",
       "      <th>2014 [YR2014]</th>\n",
       "      <th>2015 [YR2015]</th>\n",
       "      <th>2016 [YR2016]</th>\n",
       "      <th>2017 [YR2017]</th>\n",
       "      <th>2018 [YR2018]</th>\n",
       "      <th>2019 [YR2019]</th>\n",
       "      <th>2020 [YR2020]</th>\n",
       "      <th>2021 [YR2021]</th>\n",
       "    </tr>\n",
       "  </thead>\n",
       "  <tbody>\n",
       "    <tr>\n",
       "      <th>count</th>\n",
       "      <td>268</td>\n",
       "      <td>266</td>\n",
       "      <td>266</td>\n",
       "      <td>266</td>\n",
       "      <td>266</td>\n",
       "      <td>266</td>\n",
       "      <td>266</td>\n",
       "      <td>266</td>\n",
       "      <td>266</td>\n",
       "      <td>266</td>\n",
       "      <td>266</td>\n",
       "      <td>266</td>\n",
       "      <td>266</td>\n",
       "      <td>266</td>\n",
       "      <td>266</td>\n",
       "      <td>266</td>\n",
       "    </tr>\n",
       "    <tr>\n",
       "      <th>unique</th>\n",
       "      <td>3</td>\n",
       "      <td>1</td>\n",
       "      <td>266</td>\n",
       "      <td>266</td>\n",
       "      <td>264</td>\n",
       "      <td>264</td>\n",
       "      <td>264</td>\n",
       "      <td>264</td>\n",
       "      <td>264</td>\n",
       "      <td>264</td>\n",
       "      <td>264</td>\n",
       "      <td>264</td>\n",
       "      <td>264</td>\n",
       "      <td>264</td>\n",
       "      <td>264</td>\n",
       "      <td>264</td>\n",
       "    </tr>\n",
       "    <tr>\n",
       "      <th>top</th>\n",
       "      <td>Population, total</td>\n",
       "      <td>SP.POP.TOTL</td>\n",
       "      <td>Afghanistan</td>\n",
       "      <td>AFG</td>\n",
       "      <td>516629688</td>\n",
       "      <td>671212486</td>\n",
       "      <td>929328653</td>\n",
       "      <td>955096428</td>\n",
       "      <td>981506334</td>\n",
       "      <td>1008698525</td>\n",
       "      <td>1036155715</td>\n",
       "      <td>1063885000</td>\n",
       "      <td>1092403699</td>\n",
       "      <td>1121548775</td>\n",
       "      <td>1151301807</td>\n",
       "      <td>1181162739</td>\n",
       "    </tr>\n",
       "    <tr>\n",
       "      <th>freq</th>\n",
       "      <td>266</td>\n",
       "      <td>266</td>\n",
       "      <td>1</td>\n",
       "      <td>1</td>\n",
       "      <td>2</td>\n",
       "      <td>2</td>\n",
       "      <td>2</td>\n",
       "      <td>2</td>\n",
       "      <td>2</td>\n",
       "      <td>2</td>\n",
       "      <td>2</td>\n",
       "      <td>2</td>\n",
       "      <td>2</td>\n",
       "      <td>2</td>\n",
       "      <td>2</td>\n",
       "      <td>2</td>\n",
       "    </tr>\n",
       "  </tbody>\n",
       "</table>\n",
       "</div>"
      ],
      "text/plain": [
       "              Series Name  Series Code Country Name Country Code  \\\n",
       "count                 268          266          266          266   \n",
       "unique                  3            1          266          266   \n",
       "top     Population, total  SP.POP.TOTL  Afghanistan          AFG   \n",
       "freq                  266          266            1            1   \n",
       "\n",
       "       1990 [YR1990] 2000 [YR2000] 2012 [YR2012] 2013 [YR2013] 2014 [YR2014]  \\\n",
       "count            266           266           266           266           266   \n",
       "unique           264           264           264           264           264   \n",
       "top        516629688     671212486     929328653     955096428     981506334   \n",
       "freq               2             2             2             2             2   \n",
       "\n",
       "       2015 [YR2015] 2016 [YR2016] 2017 [YR2017] 2018 [YR2018] 2019 [YR2019]  \\\n",
       "count            266           266           266           266           266   \n",
       "unique           264           264           264           264           264   \n",
       "top       1008698525    1036155715    1063885000    1092403699    1121548775   \n",
       "freq               2             2             2             2             2   \n",
       "\n",
       "       2020 [YR2020] 2021 [YR2021]  \n",
       "count            266           266  \n",
       "unique           264           264  \n",
       "top       1151301807    1181162739  \n",
       "freq               2             2  "
      ]
     },
     "execution_count": 200,
     "metadata": {},
     "output_type": "execute_result"
    }
   ],
   "source": [
    "raw_population.describe()"
   ]
  },
  {
   "cell_type": "code",
   "execution_count": 201,
   "metadata": {},
   "outputs": [
    {
     "data": {
      "text/html": [
       "<div>\n",
       "<style scoped>\n",
       "    .dataframe tbody tr th:only-of-type {\n",
       "        vertical-align: middle;\n",
       "    }\n",
       "\n",
       "    .dataframe tbody tr th {\n",
       "        vertical-align: top;\n",
       "    }\n",
       "\n",
       "    .dataframe thead th {\n",
       "        text-align: right;\n",
       "    }\n",
       "</style>\n",
       "<table border=\"1\" class=\"dataframe\">\n",
       "  <thead>\n",
       "    <tr style=\"text-align: right;\">\n",
       "      <th></th>\n",
       "      <th>Country Name</th>\n",
       "      <th>Country Code</th>\n",
       "      <th>1990 [YR1990]</th>\n",
       "      <th>2000 [YR2000]</th>\n",
       "      <th>2012 [YR2012]</th>\n",
       "      <th>2013 [YR2013]</th>\n",
       "      <th>2014 [YR2014]</th>\n",
       "      <th>2015 [YR2015]</th>\n",
       "      <th>2016 [YR2016]</th>\n",
       "      <th>2017 [YR2017]</th>\n",
       "      <th>2018 [YR2018]</th>\n",
       "      <th>2019 [YR2019]</th>\n",
       "      <th>2020 [YR2020]</th>\n",
       "      <th>2021 [YR2021]</th>\n",
       "    </tr>\n",
       "  </thead>\n",
       "  <tbody>\n",
       "    <tr>\n",
       "      <th>0</th>\n",
       "      <td>Afghanistan</td>\n",
       "      <td>AFG</td>\n",
       "      <td>10694796</td>\n",
       "      <td>19542982</td>\n",
       "      <td>30466479</td>\n",
       "      <td>31541209</td>\n",
       "      <td>32716210</td>\n",
       "      <td>33753499</td>\n",
       "      <td>34636207</td>\n",
       "      <td>35643418</td>\n",
       "      <td>36686784</td>\n",
       "      <td>37769499</td>\n",
       "      <td>38972230</td>\n",
       "      <td>40099462</td>\n",
       "    </tr>\n",
       "    <tr>\n",
       "      <th>1</th>\n",
       "      <td>Albania</td>\n",
       "      <td>ALB</td>\n",
       "      <td>3286542</td>\n",
       "      <td>3089027</td>\n",
       "      <td>2900401</td>\n",
       "      <td>2895092</td>\n",
       "      <td>2889104</td>\n",
       "      <td>2880703</td>\n",
       "      <td>2876101</td>\n",
       "      <td>2873457</td>\n",
       "      <td>2866376</td>\n",
       "      <td>2854191</td>\n",
       "      <td>2837849</td>\n",
       "      <td>2811666</td>\n",
       "    </tr>\n",
       "    <tr>\n",
       "      <th>2</th>\n",
       "      <td>Algeria</td>\n",
       "      <td>DZA</td>\n",
       "      <td>25518074</td>\n",
       "      <td>30774621</td>\n",
       "      <td>37260563</td>\n",
       "      <td>38000626</td>\n",
       "      <td>38760168</td>\n",
       "      <td>39543154</td>\n",
       "      <td>40339329</td>\n",
       "      <td>41136546</td>\n",
       "      <td>41927007</td>\n",
       "      <td>42705368</td>\n",
       "      <td>43451666</td>\n",
       "      <td>44177969</td>\n",
       "    </tr>\n",
       "    <tr>\n",
       "      <th>3</th>\n",
       "      <td>American Samoa</td>\n",
       "      <td>ASM</td>\n",
       "      <td>47818</td>\n",
       "      <td>58230</td>\n",
       "      <td>53691</td>\n",
       "      <td>52995</td>\n",
       "      <td>52217</td>\n",
       "      <td>51368</td>\n",
       "      <td>50448</td>\n",
       "      <td>49463</td>\n",
       "      <td>48424</td>\n",
       "      <td>47321</td>\n",
       "      <td>46189</td>\n",
       "      <td>45035</td>\n",
       "    </tr>\n",
       "    <tr>\n",
       "      <th>4</th>\n",
       "      <td>Andorra</td>\n",
       "      <td>AND</td>\n",
       "      <td>53569</td>\n",
       "      <td>66097</td>\n",
       "      <td>71013</td>\n",
       "      <td>71367</td>\n",
       "      <td>71621</td>\n",
       "      <td>71746</td>\n",
       "      <td>72540</td>\n",
       "      <td>73837</td>\n",
       "      <td>75013</td>\n",
       "      <td>76343</td>\n",
       "      <td>77700</td>\n",
       "      <td>79034</td>\n",
       "    </tr>\n",
       "  </tbody>\n",
       "</table>\n",
       "</div>"
      ],
      "text/plain": [
       "     Country Name Country Code 1990 [YR1990] 2000 [YR2000] 2012 [YR2012]  \\\n",
       "0     Afghanistan          AFG      10694796      19542982      30466479   \n",
       "1         Albania          ALB       3286542       3089027       2900401   \n",
       "2         Algeria          DZA      25518074      30774621      37260563   \n",
       "3  American Samoa          ASM         47818         58230         53691   \n",
       "4         Andorra          AND         53569         66097         71013   \n",
       "\n",
       "  2013 [YR2013] 2014 [YR2014] 2015 [YR2015] 2016 [YR2016] 2017 [YR2017]  \\\n",
       "0      31541209      32716210      33753499      34636207      35643418   \n",
       "1       2895092       2889104       2880703       2876101       2873457   \n",
       "2      38000626      38760168      39543154      40339329      41136546   \n",
       "3         52995         52217         51368         50448         49463   \n",
       "4         71367         71621         71746         72540         73837   \n",
       "\n",
       "  2018 [YR2018] 2019 [YR2019] 2020 [YR2020] 2021 [YR2021]  \n",
       "0      36686784      37769499      38972230      40099462  \n",
       "1       2866376       2854191       2837849       2811666  \n",
       "2      41927007      42705368      43451666      44177969  \n",
       "3         48424         47321         46189         45035  \n",
       "4         75013         76343         77700         79034  "
      ]
     },
     "execution_count": 201,
     "metadata": {},
     "output_type": "execute_result"
    }
   ],
   "source": [
    "population = raw_population.copy()\n",
    "population.drop(['Series Name', 'Series Code'], axis=1, inplace=True)\n",
    "population.head()"
   ]
  },
  {
   "cell_type": "code",
   "execution_count": 202,
   "metadata": {},
   "outputs": [],
   "source": [
    "population.rename(columns={\n",
    "    '1990 [YR1990]': '1990',\n",
    "    '2000 [YR2000]': '2000',\n",
    "    '2012 [YR2012]': '2012',\n",
    "    '2013 [YR2013]': '2013',\n",
    "    '2014 [YR2014]': '2014',\n",
    "    '2015 [YR2015]': '2015',\n",
    "    '2016 [YR2016]': '2016',\n",
    "    '2017 [YR2017]': '2017',\n",
    "    '2018 [YR2018]': '2018',\n",
    "    '2019 [YR2019]': '2019',\n",
    "    '2020 [YR2020]': '2020',\n",
    "    '2021 [YR2021]': '2021',\n",
    "}, inplace=True)"
   ]
  },
  {
   "cell_type": "code",
   "execution_count": 203,
   "metadata": {},
   "outputs": [
    {
     "data": {
      "text/html": [
       "<div>\n",
       "<style scoped>\n",
       "    .dataframe tbody tr th:only-of-type {\n",
       "        vertical-align: middle;\n",
       "    }\n",
       "\n",
       "    .dataframe tbody tr th {\n",
       "        vertical-align: top;\n",
       "    }\n",
       "\n",
       "    .dataframe thead th {\n",
       "        text-align: right;\n",
       "    }\n",
       "</style>\n",
       "<table border=\"1\" class=\"dataframe\">\n",
       "  <thead>\n",
       "    <tr style=\"text-align: right;\">\n",
       "      <th></th>\n",
       "      <th>Country Name</th>\n",
       "      <th>Country Code</th>\n",
       "      <th>1990</th>\n",
       "      <th>2000</th>\n",
       "      <th>2012</th>\n",
       "      <th>2013</th>\n",
       "      <th>2014</th>\n",
       "      <th>2015</th>\n",
       "      <th>2016</th>\n",
       "      <th>2017</th>\n",
       "      <th>2018</th>\n",
       "      <th>2019</th>\n",
       "      <th>2020</th>\n",
       "      <th>2021</th>\n",
       "    </tr>\n",
       "  </thead>\n",
       "  <tbody>\n",
       "    <tr>\n",
       "      <th>0</th>\n",
       "      <td>Afghanistan</td>\n",
       "      <td>AFG</td>\n",
       "      <td>10694796</td>\n",
       "      <td>19542982</td>\n",
       "      <td>30466479</td>\n",
       "      <td>31541209</td>\n",
       "      <td>32716210</td>\n",
       "      <td>33753499</td>\n",
       "      <td>34636207</td>\n",
       "      <td>35643418</td>\n",
       "      <td>36686784</td>\n",
       "      <td>37769499</td>\n",
       "      <td>38972230</td>\n",
       "      <td>40099462</td>\n",
       "    </tr>\n",
       "    <tr>\n",
       "      <th>1</th>\n",
       "      <td>Albania</td>\n",
       "      <td>ALB</td>\n",
       "      <td>3286542</td>\n",
       "      <td>3089027</td>\n",
       "      <td>2900401</td>\n",
       "      <td>2895092</td>\n",
       "      <td>2889104</td>\n",
       "      <td>2880703</td>\n",
       "      <td>2876101</td>\n",
       "      <td>2873457</td>\n",
       "      <td>2866376</td>\n",
       "      <td>2854191</td>\n",
       "      <td>2837849</td>\n",
       "      <td>2811666</td>\n",
       "    </tr>\n",
       "    <tr>\n",
       "      <th>2</th>\n",
       "      <td>Algeria</td>\n",
       "      <td>DZA</td>\n",
       "      <td>25518074</td>\n",
       "      <td>30774621</td>\n",
       "      <td>37260563</td>\n",
       "      <td>38000626</td>\n",
       "      <td>38760168</td>\n",
       "      <td>39543154</td>\n",
       "      <td>40339329</td>\n",
       "      <td>41136546</td>\n",
       "      <td>41927007</td>\n",
       "      <td>42705368</td>\n",
       "      <td>43451666</td>\n",
       "      <td>44177969</td>\n",
       "    </tr>\n",
       "    <tr>\n",
       "      <th>3</th>\n",
       "      <td>American Samoa</td>\n",
       "      <td>ASM</td>\n",
       "      <td>47818</td>\n",
       "      <td>58230</td>\n",
       "      <td>53691</td>\n",
       "      <td>52995</td>\n",
       "      <td>52217</td>\n",
       "      <td>51368</td>\n",
       "      <td>50448</td>\n",
       "      <td>49463</td>\n",
       "      <td>48424</td>\n",
       "      <td>47321</td>\n",
       "      <td>46189</td>\n",
       "      <td>45035</td>\n",
       "    </tr>\n",
       "    <tr>\n",
       "      <th>4</th>\n",
       "      <td>Andorra</td>\n",
       "      <td>AND</td>\n",
       "      <td>53569</td>\n",
       "      <td>66097</td>\n",
       "      <td>71013</td>\n",
       "      <td>71367</td>\n",
       "      <td>71621</td>\n",
       "      <td>71746</td>\n",
       "      <td>72540</td>\n",
       "      <td>73837</td>\n",
       "      <td>75013</td>\n",
       "      <td>76343</td>\n",
       "      <td>77700</td>\n",
       "      <td>79034</td>\n",
       "    </tr>\n",
       "  </tbody>\n",
       "</table>\n",
       "</div>"
      ],
      "text/plain": [
       "     Country Name Country Code      1990      2000      2012      2013  \\\n",
       "0     Afghanistan          AFG  10694796  19542982  30466479  31541209   \n",
       "1         Albania          ALB   3286542   3089027   2900401   2895092   \n",
       "2         Algeria          DZA  25518074  30774621  37260563  38000626   \n",
       "3  American Samoa          ASM     47818     58230     53691     52995   \n",
       "4         Andorra          AND     53569     66097     71013     71367   \n",
       "\n",
       "       2014      2015      2016      2017      2018      2019      2020  \\\n",
       "0  32716210  33753499  34636207  35643418  36686784  37769499  38972230   \n",
       "1   2889104   2880703   2876101   2873457   2866376   2854191   2837849   \n",
       "2  38760168  39543154  40339329  41136546  41927007  42705368  43451666   \n",
       "3     52217     51368     50448     49463     48424     47321     46189   \n",
       "4     71621     71746     72540     73837     75013     76343     77700   \n",
       "\n",
       "       2021  \n",
       "0  40099462  \n",
       "1   2811666  \n",
       "2  44177969  \n",
       "3     45035  \n",
       "4     79034  "
      ]
     },
     "execution_count": 203,
     "metadata": {},
     "output_type": "execute_result"
    }
   ],
   "source": [
    "population.head()"
   ]
  },
  {
   "cell_type": "code",
   "execution_count": 204,
   "metadata": {},
   "outputs": [
    {
     "name": "stdout",
     "output_type": "stream",
     "text": [
      "<class 'pandas.core.frame.DataFrame'>\n",
      "RangeIndex: 271 entries, 0 to 270\n",
      "Data columns (total 14 columns):\n",
      " #   Column        Non-Null Count  Dtype \n",
      "---  ------        --------------  ----- \n",
      " 0   Country Name  266 non-null    object\n",
      " 1   Country Code  266 non-null    object\n",
      " 2   1990          266 non-null    object\n",
      " 3   2000          266 non-null    object\n",
      " 4   2012          266 non-null    object\n",
      " 5   2013          266 non-null    object\n",
      " 6   2014          266 non-null    object\n",
      " 7   2015          266 non-null    object\n",
      " 8   2016          266 non-null    object\n",
      " 9   2017          266 non-null    object\n",
      " 10  2018          266 non-null    object\n",
      " 11  2019          266 non-null    object\n",
      " 12  2020          266 non-null    object\n",
      " 13  2021          266 non-null    object\n",
      "dtypes: object(14)\n",
      "memory usage: 29.8+ KB\n"
     ]
    }
   ],
   "source": [
    "population.info()"
   ]
  },
  {
   "cell_type": "code",
   "execution_count": 205,
   "metadata": {},
   "outputs": [
    {
     "data": {
      "text/html": [
       "<div>\n",
       "<style scoped>\n",
       "    .dataframe tbody tr th:only-of-type {\n",
       "        vertical-align: middle;\n",
       "    }\n",
       "\n",
       "    .dataframe tbody tr th {\n",
       "        vertical-align: top;\n",
       "    }\n",
       "\n",
       "    .dataframe thead th {\n",
       "        text-align: right;\n",
       "    }\n",
       "</style>\n",
       "<table border=\"1\" class=\"dataframe\">\n",
       "  <thead>\n",
       "    <tr style=\"text-align: right;\">\n",
       "      <th></th>\n",
       "      <th>Country Name</th>\n",
       "      <th>Country Code</th>\n",
       "      <th>1990</th>\n",
       "      <th>2000</th>\n",
       "      <th>2012</th>\n",
       "      <th>2013</th>\n",
       "      <th>2014</th>\n",
       "      <th>2015</th>\n",
       "      <th>2016</th>\n",
       "      <th>2017</th>\n",
       "      <th>2018</th>\n",
       "      <th>2019</th>\n",
       "      <th>2020</th>\n",
       "      <th>2021</th>\n",
       "    </tr>\n",
       "  </thead>\n",
       "  <tbody>\n",
       "    <tr>\n",
       "      <th>count</th>\n",
       "      <td>266</td>\n",
       "      <td>266</td>\n",
       "      <td>266</td>\n",
       "      <td>266</td>\n",
       "      <td>266</td>\n",
       "      <td>266</td>\n",
       "      <td>266</td>\n",
       "      <td>266</td>\n",
       "      <td>266</td>\n",
       "      <td>266</td>\n",
       "      <td>266</td>\n",
       "      <td>266</td>\n",
       "      <td>266</td>\n",
       "      <td>266</td>\n",
       "    </tr>\n",
       "    <tr>\n",
       "      <th>unique</th>\n",
       "      <td>266</td>\n",
       "      <td>266</td>\n",
       "      <td>264</td>\n",
       "      <td>264</td>\n",
       "      <td>264</td>\n",
       "      <td>264</td>\n",
       "      <td>264</td>\n",
       "      <td>264</td>\n",
       "      <td>264</td>\n",
       "      <td>264</td>\n",
       "      <td>264</td>\n",
       "      <td>264</td>\n",
       "      <td>264</td>\n",
       "      <td>264</td>\n",
       "    </tr>\n",
       "    <tr>\n",
       "      <th>top</th>\n",
       "      <td>Afghanistan</td>\n",
       "      <td>AFG</td>\n",
       "      <td>516629688</td>\n",
       "      <td>671212486</td>\n",
       "      <td>929328653</td>\n",
       "      <td>955096428</td>\n",
       "      <td>981506334</td>\n",
       "      <td>1008698525</td>\n",
       "      <td>1036155715</td>\n",
       "      <td>1063885000</td>\n",
       "      <td>1092403699</td>\n",
       "      <td>1121548775</td>\n",
       "      <td>1151301807</td>\n",
       "      <td>1181162739</td>\n",
       "    </tr>\n",
       "    <tr>\n",
       "      <th>freq</th>\n",
       "      <td>1</td>\n",
       "      <td>1</td>\n",
       "      <td>2</td>\n",
       "      <td>2</td>\n",
       "      <td>2</td>\n",
       "      <td>2</td>\n",
       "      <td>2</td>\n",
       "      <td>2</td>\n",
       "      <td>2</td>\n",
       "      <td>2</td>\n",
       "      <td>2</td>\n",
       "      <td>2</td>\n",
       "      <td>2</td>\n",
       "      <td>2</td>\n",
       "    </tr>\n",
       "  </tbody>\n",
       "</table>\n",
       "</div>"
      ],
      "text/plain": [
       "       Country Name Country Code       1990       2000       2012       2013  \\\n",
       "count           266          266        266        266        266        266   \n",
       "unique          266          266        264        264        264        264   \n",
       "top     Afghanistan          AFG  516629688  671212486  929328653  955096428   \n",
       "freq              1            1          2          2          2          2   \n",
       "\n",
       "             2014        2015        2016        2017        2018        2019  \\\n",
       "count         266         266         266         266         266         266   \n",
       "unique        264         264         264         264         264         264   \n",
       "top     981506334  1008698525  1036155715  1063885000  1092403699  1121548775   \n",
       "freq            2           2           2           2           2           2   \n",
       "\n",
       "              2020        2021  \n",
       "count          266         266  \n",
       "unique         264         264  \n",
       "top     1151301807  1181162739  \n",
       "freq             2           2  "
      ]
     },
     "execution_count": 205,
     "metadata": {},
     "output_type": "execute_result"
    }
   ],
   "source": [
    "population.describe()"
   ]
  },
  {
   "cell_type": "code",
   "execution_count": 207,
   "metadata": {},
   "outputs": [
    {
     "name": "stdout",
     "output_type": "stream",
     "text": [
      "Country Name    object\n",
      "Country Code    object\n",
      "1990            object\n",
      "2000            object\n",
      "2012            object\n",
      "2013            object\n",
      "2014            object\n",
      "2015            object\n",
      "2016            object\n",
      "2017            object\n",
      "2018            object\n",
      "2019            object\n",
      "2020            object\n",
      "2021            object\n",
      "dtype: object\n"
     ]
    }
   ],
   "source": [
    "print(population.dtypes)"
   ]
  },
  {
   "cell_type": "code",
   "execution_count": 208,
   "metadata": {},
   "outputs": [],
   "source": [
    "population['1990'] = pd.to_numeric(population['1990'], errors='coerce')\n",
    "population['2000'] = pd.to_numeric(population['2000'], errors='coerce')\n",
    "population['2012'] = pd.to_numeric(population['2012'], errors='coerce')\n",
    "population['2013'] = pd.to_numeric(population['2013'], errors='coerce')\n",
    "population['2014'] = pd.to_numeric(population['2014'], errors='coerce')\n",
    "population['2015'] = pd.to_numeric(population['2015'], errors='coerce')\n",
    "population['2016'] = pd.to_numeric(population['2016'], errors='coerce')\n",
    "population['2017'] = pd.to_numeric(population['2017'], errors='coerce')\n",
    "population['2018'] = pd.to_numeric(population['2018'], errors='coerce')\n",
    "population['2019'] = pd.to_numeric(population['2019'], errors='coerce')\n",
    "population['2020'] = pd.to_numeric(population['2020'], errors='coerce')\n",
    "population['2021'] = pd.to_numeric(population['2021'], errors='coerce')"
   ]
  },
  {
   "cell_type": "code",
   "execution_count": 209,
   "metadata": {},
   "outputs": [
    {
     "data": {
      "text/plain": [
       "Country Name     object\n",
       "Country Code     object\n",
       "1990            float64\n",
       "2000            float64\n",
       "2012            float64\n",
       "2013            float64\n",
       "2014            float64\n",
       "2015            float64\n",
       "2016            float64\n",
       "2017            float64\n",
       "2018            float64\n",
       "2019            float64\n",
       "2020            float64\n",
       "2021            float64\n",
       "dtype: object"
      ]
     },
     "execution_count": 209,
     "metadata": {},
     "output_type": "execute_result"
    }
   ],
   "source": [
    "population.dtypes"
   ]
  },
  {
   "cell_type": "code",
   "execution_count": 210,
   "metadata": {},
   "outputs": [
    {
     "data": {
      "text/plain": [
       "7317508753.0"
      ]
     },
     "execution_count": 210,
     "metadata": {},
     "output_type": "execute_result"
    }
   ],
   "source": [
    "maximum_population('2014')"
   ]
  },
  {
   "cell_type": "code",
   "execution_count": 211,
   "metadata": {},
   "outputs": [
    {
     "data": {
      "text/plain": [
       "7317508753.0"
      ]
     },
     "execution_count": 211,
     "metadata": {},
     "output_type": "execute_result"
    }
   ],
   "source": [
    "population['2014'].max()"
   ]
  },
  {
   "cell_type": "code",
   "execution_count": 212,
   "metadata": {},
   "outputs": [
    {
     "data": {
      "text/plain": [
       "Index(['Country Name', 'Country Code', '1990', '2000', '2012', '2013', '2014',\n",
       "       '2015', '2016', '2017', '2018', '2019', '2020', '2021'],\n",
       "      dtype='object')"
      ]
     },
     "execution_count": 212,
     "metadata": {},
     "output_type": "execute_result"
    }
   ],
   "source": [
    "population.columns"
   ]
  },
  {
   "cell_type": "code",
   "execution_count": 213,
   "metadata": {},
   "outputs": [
    {
     "name": "stdout",
     "output_type": "stream",
     "text": [
      "(271, 14)\n"
     ]
    }
   ],
   "source": [
    "print(population.shape)"
   ]
  },
  {
   "cell_type": "code",
   "execution_count": 214,
   "metadata": {},
   "outputs": [
    {
     "data": {
      "text/plain": [
       "Country Name    5\n",
       "Country Code    5\n",
       "1990            6\n",
       "2000            6\n",
       "2012            6\n",
       "2013            6\n",
       "2014            6\n",
       "2015            6\n",
       "2016            6\n",
       "2017            6\n",
       "2018            6\n",
       "2019            6\n",
       "2020            6\n",
       "2021            6\n",
       "dtype: int64"
      ]
     },
     "execution_count": 214,
     "metadata": {},
     "output_type": "execute_result"
    }
   ],
   "source": [
    "population.isna().sum()"
   ]
  },
  {
   "cell_type": "code",
   "execution_count": 215,
   "metadata": {},
   "outputs": [],
   "source": [
    "population.dropna(inplace=True)"
   ]
  },
  {
   "cell_type": "code",
   "execution_count": 216,
   "metadata": {},
   "outputs": [
    {
     "data": {
      "text/plain": [
       "Country Name    0\n",
       "Country Code    0\n",
       "1990            0\n",
       "2000            0\n",
       "2012            0\n",
       "2013            0\n",
       "2014            0\n",
       "2015            0\n",
       "2016            0\n",
       "2017            0\n",
       "2018            0\n",
       "2019            0\n",
       "2020            0\n",
       "2021            0\n",
       "dtype: int64"
      ]
     },
     "execution_count": 216,
     "metadata": {},
     "output_type": "execute_result"
    }
   ],
   "source": [
    "population.isna().sum()"
   ]
  },
  {
   "cell_type": "code",
   "execution_count": 217,
   "metadata": {},
   "outputs": [
    {
     "name": "stdout",
     "output_type": "stream",
     "text": [
      "(265, 14)\n"
     ]
    }
   ],
   "source": [
    "print(population.shape)"
   ]
  },
  {
   "cell_type": "code",
   "execution_count": 218,
   "metadata": {},
   "outputs": [],
   "source": [
    "new_population = population.copy()\n",
    "new_population.drop(new_population.tail(48).index, inplace=True)"
   ]
  },
  {
   "cell_type": "code",
   "execution_count": 239,
   "metadata": {},
   "outputs": [],
   "source": [
    "# Create a function to plot the top 5 countries with highest population in a given year\n",
    "def top_5_population_graph(year):\n",
    "    #sort the dataframe by the given year in descending order\n",
    "    new_population.sort_values(by=year, ascending=False, inplace=True)\n",
    "    new_population.head(5).plot(x='Country Name', y=year, kind='bar')\n",
    "    #add the value of each bar graph inside the bar\n",
    "    for i, val in enumerate(new_population.head(5)[year]):\n",
    "        plt.text(i, val, str(round(val/1000000, 2)) + 'M', ha='center')\n",
    "    plt.xlabel('Country Name')\n",
    "    plt.ylabel('Population in '+ year+' (in millions)')\n",
    "    plt.title('Top 5 Countries with Highest Population in ' + year)\n",
    "    #increase space between each bars to make it more readable\n",
    "    plt.gca().margins(x=0.1, y=0.05)\n",
    "    #display the value of each bar graph inside the bar vertically\n",
    "    plt.gca().set_ylim(bottom=1)\n",
    "    plt.show()"
   ]
  },
  {
   "cell_type": "code",
   "execution_count": 240,
   "metadata": {},
   "outputs": [
    {
     "data": {
      "image/png": "[encoded data removed]",
      "text/plain": [
       "<Figure size 640x480 with 1 Axes>"
      ]
     },
     "metadata": {},
     "output_type": "display_data"
    }
   ],
   "source": [
    "top_5_population_graph('2000')"
   ]
  },
  {
   "cell_type": "code",
   "execution_count": 221,
   "metadata": {},
   "outputs": [],
   "source": [
    "#create a new function with only the top 5 countries for each year\n",
    "def top_5_population_year(year):\n",
    "    pop_in_year = new_population.nlargest(5, year)\n",
    "    pop_in_year = pop_in_year[['Country Name', year]]\n",
    "    pop_in_year.columns = ['Country Name', 'Population in ' +year+ ' (in millions)']\n",
    "    pop_in_year['Population in ' +year+' (in millions)'] = pop_in_year['Population in ' +year+ ' (in millions)'].apply(lambda x: round(x/1000000, 2))\n",
    "    pop_in_year.index = [1,2,3,4,5]\n",
    "    return pop_in_year\n"
   ]
  },
  {
   "cell_type": "code",
   "execution_count": 222,
   "metadata": {},
   "outputs": [
    {
     "data": {
      "text/html": [
       "<div>\n",
       "<style scoped>\n",
       "    .dataframe tbody tr th:only-of-type {\n",
       "        vertical-align: middle;\n",
       "    }\n",
       "\n",
       "    .dataframe tbody tr th {\n",
       "        vertical-align: top;\n",
       "    }\n",
       "\n",
       "    .dataframe thead th {\n",
       "        text-align: right;\n",
       "    }\n",
       "</style>\n",
       "<table border=\"1\" class=\"dataframe\">\n",
       "  <thead>\n",
       "    <tr style=\"text-align: right;\">\n",
       "      <th></th>\n",
       "      <th>Country Name</th>\n",
       "      <th>Population in 2012 (in millions)</th>\n",
       "    </tr>\n",
       "  </thead>\n",
       "  <tbody>\n",
       "    <tr>\n",
       "      <th>1</th>\n",
       "      <td>China</td>\n",
       "      <td>1354.19</td>\n",
       "    </tr>\n",
       "    <tr>\n",
       "      <th>2</th>\n",
       "      <td>India</td>\n",
       "      <td>1274.49</td>\n",
       "    </tr>\n",
       "    <tr>\n",
       "      <th>3</th>\n",
       "      <td>United States</td>\n",
       "      <td>313.88</td>\n",
       "    </tr>\n",
       "    <tr>\n",
       "      <th>4</th>\n",
       "      <td>Indonesia</td>\n",
       "      <td>250.22</td>\n",
       "    </tr>\n",
       "    <tr>\n",
       "      <th>5</th>\n",
       "      <td>Pakistan</td>\n",
       "      <td>202.21</td>\n",
       "    </tr>\n",
       "  </tbody>\n",
       "</table>\n",
       "</div>"
      ],
      "text/plain": [
       "    Country Name  Population in 2012 (in millions)\n",
       "1          China                           1354.19\n",
       "2          India                           1274.49\n",
       "3  United States                            313.88\n",
       "4      Indonesia                            250.22\n",
       "5       Pakistan                            202.21"
      ]
     },
     "execution_count": 222,
     "metadata": {},
     "output_type": "execute_result"
    }
   ],
   "source": [
    "pop_2000 = top_5_population_year('2012')\n",
    "pop_2000"
   ]
  },
  {
   "cell_type": "code",
   "execution_count": 263,
   "metadata": {},
   "outputs": [],
   "source": [
    "#create a function to extract row for a given country\n",
    "def country_population(country):\n",
    "    country_population = new_population.copy()\n",
    "    country_population = country_population.loc[country_population['Country Name'] == country]\n",
    "    country_population.loc[:,'1990':'2021'] = country_population.loc[:,'1990':'2021'].apply(lambda x: round(x/1000000, 2))\n",
    "    return country_population\n"
   ]
  },
  {
   "cell_type": "code",
   "execution_count": 292,
   "metadata": {},
   "outputs": [
    {
     "data": {
      "image/png": "[encoded data removed]",
      "text/plain": [
       "<Figure size 640x480 with 1 Axes>"
      ]
     },
     "metadata": {},
     "output_type": "display_data"
    }
   ],
   "source": [
    "population_of_india = country_population('India')\n",
    "population_of_india\n",
    "#iterate through each row and plot the population of the country for each year with data points\n",
    "for index, row in population_of_india.iterrows():\n",
    "    plt.plot(row['1990':'2021'], label=row['Country Name'])\n",
    "    plt.xlabel('Year')\n",
    "    plt.ylabel('Population in millions')\n",
    "    plt.title('Population of India from 1990 to 2021')\n",
    "    plt.legend()\n",
    "    plt.show()\n",
    "\n"
   ]
  },
  {
   "cell_type": "code",
   "execution_count": 268,
   "metadata": {},
   "outputs": [],
   "source": [
    "# create a function to calculate the growth rate of population for a given country\n",
    "def population_growth_rate(country):\n",
    "    country_population.loc[:,'1990':'2021'] = country_population.loc[:,'1990':'2021'].pct_change(axis=1)\n",
    "    return country_population"
   ]
  },
  {
   "cell_type": "code",
   "execution_count": 267,
   "metadata": {},
   "outputs": [],
   "source": [
    "#plot the population of a given country for each year\n",
    "def country_population_graph(country):\n",
    "    country_population(country).plot(x='Country Name', y=country_population(country).columns[1:], kind='bar')\n",
    "    plt.xlabel('Country Name')\n",
    "    plt.ylabel('Population in millions')\n",
    "    plt.title('Population of ' + country + ' from 1990 to 2021')\n",
    "    plt.show()"
   ]
  },
  {
   "cell_type": "code",
   "execution_count": 269,
   "metadata": {},
   "outputs": [
    {
     "data": {
      "image/png": "[encoded data removed]",
      "text/plain": [
       "<Figure size 640x480 with 1 Axes>"
      ]
     },
     "metadata": {},
     "output_type": "display_data"
    }
   ],
   "source": [
    "country_population_graph('India')"
   ]
  },
  {
   "cell_type": "code",
   "execution_count": 224,
   "metadata": {},
   "outputs": [],
   "source": [
    "#select a row using index number\n",
    "world_population = population.tail(1)"
   ]
  }
 ],
 "metadata": {
  "kernelspec": {
   "display_name": "Python 3",
   "language": "python",
   "name": "python3"
  },
  "language_info": {
   "codemirror_mode": {
    "name": "ipython",
    "version": 3
   },
   "file_extension": ".py",
   "mimetype": "text/x-python",
   "name": "python",
   "nbconvert_exporter": "python",
   "pygments_lexer": "ipython3",
   "version": "3.10.7"
  },
  "orig_nbformat": 4,
  "vscode": {
   "interpreter": {
    "hash": "2a541d6ebf2ccfaf841d2745dd615f51810bf46c06c1385e22524e5a7da76094"
   }
  }
 },
 "nbformat": 4,
 "nbformat_minor": 2
}
